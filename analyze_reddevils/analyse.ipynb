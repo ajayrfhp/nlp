{
 "cells": [
  {
   "cell_type": "code",
   "execution_count": 1,
   "metadata": {},
   "outputs": [],
   "source": [
    "import transformers\n",
    "from matplotlib import pyplot as plt\n",
    "import pandas as pd\n",
    "from transformers import pipeline"
   ]
  },
  {
   "cell_type": "code",
   "execution_count": 2,
   "metadata": {},
   "outputs": [
    {
     "data": {
      "text/html": [
       "<div>\n",
       "<style scoped>\n",
       "    .dataframe tbody tr th:only-of-type {\n",
       "        vertical-align: middle;\n",
       "    }\n",
       "\n",
       "    .dataframe tbody tr th {\n",
       "        vertical-align: top;\n",
       "    }\n",
       "\n",
       "    .dataframe thead th {\n",
       "        text-align: right;\n",
       "    }\n",
       "</style>\n",
       "<table border=\"1\" class=\"dataframe\">\n",
       "  <thead>\n",
       "    <tr style=\"text-align: right;\">\n",
       "      <th></th>\n",
       "      <th>id</th>\n",
       "      <th>submission_id</th>\n",
       "      <th>body</th>\n",
       "      <th>created_utc</th>\n",
       "      <th>parent_id</th>\n",
       "      <th>permalink</th>\n",
       "    </tr>\n",
       "  </thead>\n",
       "  <tbody>\n",
       "    <tr>\n",
       "      <th>0</th>\n",
       "      <td>ieh80s1</td>\n",
       "      <td>vp6h0i</td>\n",
       "      <td>Did we see this kind of training video during ...</td>\n",
       "      <td>1656697457</td>\n",
       "      <td>t3_vp6h0i</td>\n",
       "      <td>/r/reddevils/comments/vp6h0i/on_the_ball_in_pr...</td>\n",
       "    </tr>\n",
       "    <tr>\n",
       "      <th>1</th>\n",
       "      <td>ieh8cat</td>\n",
       "      <td>vp6j94</td>\n",
       "      <td>nothing article really</td>\n",
       "      <td>1656697585</td>\n",
       "      <td>t3_vp6j94</td>\n",
       "      <td>/r/reddevils/comments/vp6j94/chelsea_tier_2_fr...</td>\n",
       "    </tr>\n",
       "    <tr>\n",
       "      <th>2</th>\n",
       "      <td>ieh8ajz</td>\n",
       "      <td>vp6j94</td>\n",
       "      <td>Could. If.\\n\\nYawn.\\n\\nAbsolute non story.</td>\n",
       "      <td>1656697565</td>\n",
       "      <td>t3_vp6j94</td>\n",
       "      <td>/r/reddevils/comments/vp6j94/chelsea_tier_2_fr...</td>\n",
       "    </tr>\n",
       "    <tr>\n",
       "      <th>3</th>\n",
       "      <td>ieh8g9g</td>\n",
       "      <td>vp6j94</td>\n",
       "      <td>Only if we bottle the signing.\\n\\nThey're not ...</td>\n",
       "      <td>1656697629</td>\n",
       "      <td>t3_vp6j94</td>\n",
       "      <td>/r/reddevils/comments/vp6j94/chelsea_tier_2_fr...</td>\n",
       "    </tr>\n",
       "    <tr>\n",
       "      <th>4</th>\n",
       "      <td>ieh89my</td>\n",
       "      <td>vp6j94</td>\n",
       "      <td>New Chelsea is extremely incompetent at transf...</td>\n",
       "      <td>1656697555</td>\n",
       "      <td>t3_vp6j94</td>\n",
       "      <td>/r/reddevils/comments/vp6j94/chelsea_tier_2_fr...</td>\n",
       "    </tr>\n",
       "  </tbody>\n",
       "</table>\n",
       "</div>"
      ],
      "text/plain": [
       "        id submission_id                                               body  \\\n",
       "0  ieh80s1        vp6h0i  Did we see this kind of training video during ...   \n",
       "1  ieh8cat        vp6j94                             nothing article really   \n",
       "2  ieh8ajz        vp6j94         Could. If.\\n\\nYawn.\\n\\nAbsolute non story.   \n",
       "3  ieh8g9g        vp6j94  Only if we bottle the signing.\\n\\nThey're not ...   \n",
       "4  ieh89my        vp6j94  New Chelsea is extremely incompetent at transf...   \n",
       "\n",
       "   created_utc  parent_id                                          permalink  \n",
       "0   1656697457  t3_vp6h0i  /r/reddevils/comments/vp6h0i/on_the_ball_in_pr...  \n",
       "1   1656697585  t3_vp6j94  /r/reddevils/comments/vp6j94/chelsea_tier_2_fr...  \n",
       "2   1656697565  t3_vp6j94  /r/reddevils/comments/vp6j94/chelsea_tier_2_fr...  \n",
       "3   1656697629  t3_vp6j94  /r/reddevils/comments/vp6j94/chelsea_tier_2_fr...  \n",
       "4   1656697555  t3_vp6j94  /r/reddevils/comments/vp6j94/chelsea_tier_2_fr...  "
      ]
     },
     "execution_count": 2,
     "metadata": {},
     "output_type": "execute_result"
    }
   ],
   "source": [
    "data = pd.read_csv(\"/home/ajrfhp/nlp/subreddit-comments-dl/data/RedDevils/20220710122342/comments/1.csv\")\n",
    "data.head()"
   ]
  },
  {
   "cell_type": "code",
   "execution_count": 7,
   "metadata": {},
   "outputs": [
    {
     "name": "stderr",
     "output_type": "stream",
     "text": [
      "No model was supplied, defaulted to distilbert-base-uncased-finetuned-sst-2-english (https://huggingface.co/distilbert-base-uncased-finetuned-sst-2-english)\n"
     ]
    },
    {
     "data": {
      "application/vnd.jupyter.widget-view+json": {
       "model_id": "acd08eb1401149d0a0344201e5ba8a6b",
       "version_major": 2,
       "version_minor": 0
      },
      "text/plain": [
       "Downloading:   0%|          | 0.00/629 [00:00<?, ?B/s]"
      ]
     },
     "metadata": {},
     "output_type": "display_data"
    },
    {
     "data": {
      "application/vnd.jupyter.widget-view+json": {
       "model_id": "920d9e5b29c740e68fc7d0f27ac18e9c",
       "version_major": 2,
       "version_minor": 0
      },
      "text/plain": [
       "Downloading:   0%|          | 0.00/255M [00:00<?, ?B/s]"
      ]
     },
     "metadata": {},
     "output_type": "display_data"
    },
    {
     "data": {
      "application/vnd.jupyter.widget-view+json": {
       "model_id": "30f9121dd36c4ac2901cfcf74e4a6ab1",
       "version_major": 2,
       "version_minor": 0
      },
      "text/plain": [
       "Downloading:   0%|          | 0.00/48.0 [00:00<?, ?B/s]"
      ]
     },
     "metadata": {},
     "output_type": "display_data"
    },
    {
     "data": {
      "application/vnd.jupyter.widget-view+json": {
       "model_id": "58f73cd695324059a5e99ce5061d31b6",
       "version_major": 2,
       "version_minor": 0
      },
      "text/plain": [
       "Downloading:   0%|          | 0.00/226k [00:00<?, ?B/s]"
      ]
     },
     "metadata": {},
     "output_type": "display_data"
    }
   ],
   "source": [
    "classifier = pipeline(task='text-classification', model='')"
   ]
  },
  {
   "cell_type": "code",
   "execution_count": 53,
   "metadata": {},
   "outputs": [
    {
     "name": "stdout",
     "output_type": "stream",
     "text": [
      "nothing article really -0.9991540908813477\n",
      "Could. If.\\n\\nYawn.\\n\\nAbsolute non story. -0.9983155727386475\n",
      "Only if we bottle the signing.\\n\\nThey're not entering the race yet. Easy everyone. -0.9975358247756958\n",
      "New Chelsea is extremely incompetent at transfers, nothing to worry about 0.900814414024353\n",
      "Fuckers have Jorgino, Kova, Kante, Mount...can they let us have this one -0.9985288381576538\n",
      "Don't you dare do an obi mikel on him -0.986770510673523\n",
      "Just monitoring so can relax, for now 0.9088127613067627\n",
      "Chelsea you don't cheebye 0.6896841526031494\n",
      "Not worried. He’s our number 1 target, he’s open to the move and we have ETH. Genuinely not worried and neither should you lot be. Also, Chelsea are literally being linked to every player that’s played football, it’s easy clicks. I sense bullshit. 0.6221874356269836\n",
      "Broke barca just gazumped chelsea back for raphinha they’re absolutely seething lmao 0.6822405457496643\n",
      "I'm fucking scared...\\n\\nChelsea usually don't mess around with transfers 0.7012764811515808\n",
      "The Guardian is the most trusted paper in the UK 0.9984951019287109\n",
      "keep calm 0.9931802749633789\n",
      "Yo r/tennis crossover 0.9920152425765991\n",
      "They realistically can pull it off, but unlikely. 0.9927428960800171\n",
      "It's still their best part of the squad and one of the strongest mids in the world. In Tuchel's system it's ideal. Kante could be replaced sure but I think Jorginho and Kovacic still have a few years in them together. Kovacic ofcourse is really good. They also have Gallagher coming back from loan so that's an interesting one. 0.9998360872268677\n",
      "They also have Gallagher and it would make a lot more sense for them to go after rice 0.9549493193626404\n",
      "Yeah like I said, I’m pretty sure this news isn’t true but they do need a midfielder. 0.8441612124443054\n"
     ]
    },
    {
     "data": {
      "image/png": "[encoded data removed]",
      "text/plain": [
       "<Figure size 432x288 with 1 Axes>"
      ]
     },
     "metadata": {
      "needs_background": "light"
     },
     "output_type": "display_data"
    }
   ],
   "source": [
    "def get_sentiment_against_topic(data, topic='', num_comments = 1000, num_visualize_pos=5, num_visualize_neg=5):\n",
    "    topic_comments = data[data['permalink'].str.contains(topic)]['body']\n",
    "    scores = []\n",
    "    for i, comment in enumerate(topic_comments.values[:num_comments]):\n",
    "        try:\n",
    "            if len(comment) < 512:\n",
    "                classification = classifier(comment)[0]\n",
    "                score = classification['score']\n",
    "                if classification['label'] == \"NEGATIVE\":\n",
    "                    score *= -1\n",
    "                    if num_visualize_neg > 0:\n",
    "                        print(comment, score)\n",
    "                        num_visualize_neg -= 1\n",
    "                else:\n",
    "                    if num_visualize_pos > 0:\n",
    "                        print(comment, score)\n",
    "                        num_visualize_pos = 1\n",
    "                scores.append(score)\n",
    "                \n",
    "        except:\n",
    "            print(f\"Invalid {comment}\")\n",
    "    plt.hist(scores)\n",
    "    plt.show()\n",
    "get_sentiment_against_topic(data, topic='frenkie')"
   ]
  },
  {
   "cell_type": "code",
   "execution_count": 52,
   "metadata": {},
   "outputs": [
    {
     "data": {
      "image/png": "[encoded data removed]",
      "text/plain": [
       "<Figure size 432x288 with 1 Axes>"
      ]
     },
     "metadata": {
      "needs_background": "light"
     },
     "output_type": "display_data"
    }
   ],
   "source": [
    "get_sentiment_against_topic(data, topic='pogba')"
   ]
  },
  {
   "cell_type": "code",
   "execution_count": null,
   "metadata": {},
   "outputs": [],
   "source": []
  }
 ],
 "metadata": {
  "interpreter": {
   "hash": "207f4bc9e0c83dc0c8ddefb60bf2781db591dfbb838789bb02122c3833b8e815"
  },
  "kernelspec": {
   "display_name": "Python 3.8.13 ('reddevils_nlp')",
   "language": "python",
   "name": "python3"
  },
  "language_info": {
   "codemirror_mode": {
    "name": "ipython",
    "version": 3
   },
   "file_extension": ".py",
   "mimetype": "text/x-python",
   "name": "python",
   "nbconvert_exporter": "python",
   "pygments_lexer": "ipython3",
   "version": "3.8.13"
  },
  "orig_nbformat": 4
 },
 "nbformat": 4,
 "nbformat_minor": 2
}
