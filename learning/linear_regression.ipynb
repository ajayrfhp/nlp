{
 "cells": [
  {
   "cell_type": "code",
   "execution_count": 1,
   "metadata": {},
   "outputs": [],
   "source": [
    "import numpy as np\n",
    "import torch, torch.optim as optim\n",
    "import torch.nn as nn\n",
    "from matplotlib import pyplot as plt\n",
    "from torch.utils.data import TensorDataset, DataLoader"
   ]
  },
  {
   "cell_type": "code",
   "execution_count": 2,
   "metadata": {},
   "outputs": [
    {
     "data": {
      "image/png": "[encoded data removed]",
      "text/plain": [
       "<Figure size 432x288 with 1 Axes>"
      ]
     },
     "metadata": {
      "needs_background": "light"
     },
     "output_type": "display_data"
    }
   ],
   "source": [
    "X = np.arange(-5000, 5000, 1) / 100\n",
    "Y = 2 * X + 3\n",
    "\n",
    "plt.plot(X, Y, 'o')\n",
    "plt.show()\n"
   ]
  },
  {
   "cell_type": "code",
   "execution_count": 13,
   "metadata": {},
   "outputs": [],
   "source": [
    "def get_train_test_dataset(X, Y):\n",
    "    indices = np.random.permutation(len(X))\n",
    "    X, Y = X[indices], Y[indices]\n",
    "    \n",
    "    X = torch.from_numpy(X).reshape((-1, 1)).double()\n",
    "    Y = torch.from_numpy(Y).reshape((-1, 1)).double()\n",
    "    \n",
    "    train_length = int(0.8 * len(X))\n",
    "    X_train, Y_train = X[:train_length], Y[:train_length]\n",
    "    X_test, Y_test = X[train_length:], Y[train_length:]\n",
    "\n",
    "    train_loader = DataLoader(TensorDataset(X_train, Y_train), batch_size=100)\n",
    "    test_loader = DataLoader(TensorDataset(X_test, Y_test), batch_size=100)\n",
    "\n",
    "    return train_loader, test_loader\n",
    "\n",
    "train_loader, test_loader = get_train_test_dataset(X, Y)\n"
   ]
  },
  {
   "cell_type": "code",
   "execution_count": 14,
   "metadata": {},
   "outputs": [
    {
     "name": "stdout",
     "output_type": "stream",
     "text": [
      "fc1.weight Parameter containing:\n",
      "tensor([[0.8112]], dtype=torch.float64, requires_grad=True)\n",
      "fc1.bias Parameter containing:\n",
      "tensor([0.4584], dtype=torch.float64, requires_grad=True)\n"
     ]
    }
   ],
   "source": [
    "class LinearModel(nn.Module):\n",
    "    def __init__(self) -> None:\n",
    "        super(LinearModel, self).__init__()\n",
    "        self.fc1 = nn.Linear(1, 1)\n",
    "\n",
    "    def forward(self, x):\n",
    "        return self.fc1(x)\n",
    "\n",
    "\n",
    "model = LinearModel().double()\n",
    "model.forward(torch.tensor([4]).double())\n",
    "\n",
    "for name, param in model.named_parameters():\n",
    "    print(name, param)"
   ]
  },
  {
   "cell_type": "code",
   "execution_count": 25,
   "metadata": {},
   "outputs": [
    {
     "name": "stdout",
     "output_type": "stream",
     "text": [
      "2984.8680300280907\n"
     ]
    },
    {
     "data": {
      "image/png": "[encoded data removed]",
      "text/plain": [
       "<Figure size 432x288 with 1 Axes>"
      ]
     },
     "metadata": {
      "needs_background": "light"
     },
     "output_type": "display_data"
    },
    {
     "name": "stdout",
     "output_type": "stream",
     "text": [
      "6.301374280743202e-07\n"
     ]
    }
   ],
   "source": [
    "def train(model, train_loader, optimizer, num_epochs=100):\n",
    "    running_losses = []\n",
    "    for epoch in range(num_epochs):\n",
    "        running_loss = 0\n",
    "        for i, (X_train, Y_train) in enumerate(train_loader):\n",
    "            predictions = model.forward(X_train)\n",
    "            loss = nn.MSELoss()(predictions, Y_train)\n",
    "            optimizer.zero_grad()\n",
    "            loss.backward()\n",
    "            optimizer.step()\n",
    "            running_loss += loss.item()\n",
    "            if i % 50 == 0 and i > 0:\n",
    "                running_losses.append(running_loss)\n",
    "                running_loss = 0\n",
    "    plt.plot(np.arange(len(running_losses)), running_losses)\n",
    "    plt.show()\n",
    "\n",
    "def eval(model, test_loader):\n",
    "    sum_loss, count_loss = 0, 0\n",
    "    for i, (X_test, Y_test) in enumerate(test_loader):\n",
    "        predictions = model.forward(X_test)\n",
    "        loss = nn.MSELoss()(predictions, Y_test)\n",
    "        sum_loss += loss.item()\n",
    "        count_loss += 1\n",
    "    print(sum_loss / count_loss)\n",
    "\n",
    "model = LinearModel().double()\n",
    "optimizer = torch.optim.Adam(model.parameters(), lr=1e-3)\n",
    "eval(model, test_loader)\n",
    "train(model, train_loader, optimizer)\n",
    "eval(model, test_loader)\n"
   ]
  },
  {
   "cell_type": "code",
   "execution_count": null,
   "metadata": {},
   "outputs": [],
   "source": []
  }
 ],
 "metadata": {
  "kernelspec": {
   "display_name": "Python 3.8.13 ('reddevils_nlp')",
   "language": "python",
   "name": "python3"
  },
  "language_info": {
   "codemirror_mode": {
    "name": "ipython",
    "version": 3
   },
   "file_extension": ".py",
   "mimetype": "text/x-python",
   "name": "python",
   "nbconvert_exporter": "python",
   "pygments_lexer": "ipython3",
   "version": "3.8.13"
  },
  "orig_nbformat": 4,
  "vscode": {
   "interpreter": {
    "hash": "207f4bc9e0c83dc0c8ddefb60bf2781db591dfbb838789bb02122c3833b8e815"
   }
  }
 },
 "nbformat": 4,
 "nbformat_minor": 2
}
