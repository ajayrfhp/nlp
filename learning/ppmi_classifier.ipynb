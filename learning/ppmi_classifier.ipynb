{
 "cells": [
  {
   "cell_type": "markdown",
   "metadata": {},
   "source": [
    "- Build PPMI vectors\n",
    "- Visualize PPMI vectors to verify correctness\n",
    "- Use logistic regression + PPMI vectors on IMDB dataset\n"
   ]
  },
  {
   "cell_type": "code",
   "execution_count": 1,
   "metadata": {},
   "outputs": [],
   "source": [
    "from collections import defaultdict, Counter\n",
    "import numpy as np\n",
    "from datasets import load_dataset\n",
    "from matplotlib import pyplot as plt\n",
    "import evaluate\n",
    "from utils import get_vocab\n",
    "import torch.nn as nn\n",
    "import torch\n",
    "import torch.optim as optim\n",
    "from torch.utils.data import DataLoader"
   ]
  },
  {
   "cell_type": "code",
   "execution_count": 2,
   "metadata": {},
   "outputs": [
    {
     "data": {
      "image/png": "[encoded data removed]",
      "text/plain": [
       "<Figure size 1080x360 with 1 Axes>"
      ]
     },
     "metadata": {
      "needs_background": "light"
     },
     "output_type": "display_data"
    }
   ],
   "source": [
    "class PPMIClassifier:\n",
    "    def __init__(self, vocab_size, word2int, num_classes, int2word, window_size) -> None:\n",
    "        self.co_occurence_matrix = np.zeros((vocab_size, vocab_size))\n",
    "        self.ppmi_matrix = np.zeros((vocab_size, vocab_size))\n",
    "        self.window_size = window_size\n",
    "        self.word2int = word2int\n",
    "        self.int2word = int2word\n",
    "        self.num_classes = num_classes\n",
    "        self.vocab_size = vocab_size\n",
    "\n",
    "    def fit(self, X, split=False, logging=False, logging_interval=100):\n",
    "        for k, x in enumerate(X):\n",
    "            if split:\n",
    "                x = x.split(' ')\n",
    "            if k % logging_interval == 0 and logging:\n",
    "                print(f'counted {k} out of {len(X)}')\n",
    "            for i in range(len(x)):\n",
    "                for j in range(i-self.window_size,i+self.window_size+1):\n",
    "                    if i > 0 and j > 0 and j < len(x) and i != j:\n",
    "                        self.co_occurence_matrix[self.word2int[x[i]]][self.word2int[x[j]]] += 1\n",
    "        \n",
    "        total_word_count = self.co_occurence_matrix.sum()\n",
    "        for i in range(1, self.vocab_size):\n",
    "            if i % logging_interval == 0 and logging:\n",
    "                print(f'processed {i} out of {self.vocab_size}')\n",
    "            for j in range(1, self.vocab_size):\n",
    "                num = self.co_occurence_matrix[i][j] / total_word_count\n",
    "                den = self.co_occurence_matrix[i].sum() * self.co_occurence_matrix[j].sum() / (total_word_count ** 2)\n",
    "                pmi = (num + 1e-5) / (den + 1e-5)\n",
    "                self.ppmi_matrix[i][j] = max(np.log2(pmi), 0)\n",
    "            self.ppmi_matrix[i] /= (np.sqrt((self.ppmi_matrix[i] * self.ppmi_matrix[i]).sum()) + 1e-5)\n",
    "    \n",
    "    def visualize_word(self, word, k=100):\n",
    "        vector = self.ppmi_matrix[self.word2int[word]]\n",
    "        top_dimensions = vector.argsort()[::-1][:k]\n",
    "        top_dimensions = [dim for dim in top_dimensions if dim != 0]\n",
    "        top_words = [self.int2word[i] for i in top_dimensions]\n",
    "\n",
    "        plt.bar(top_words, vector[top_dimensions])\n",
    "        plt.xticks(rotation=90)\n",
    "        plt.show()\n",
    "    \n",
    "    def get_word_similarity(self, word1, word2):\n",
    "        vec1 = self.ppmi_matrix[self.word2int[word1]]\n",
    "        vec2 = self.ppmi_matrix[self.word2int[word2]]\n",
    "        if self.word2int[word1] == 0 or self.word2int[word2] == 0:\n",
    "            return 0\n",
    "        return vec1.dot(vec2)\n",
    "\n",
    "\n",
    "toy_X = [\n",
    "        ['this', 'is', 'positive', 'amazing', 'great', 'good'],\n",
    "        ['positive', 'amazing', 'great', 'good'],\n",
    "        ['positive', 'amazing', 'news', 'great', 'good'],\n",
    "        ['amazing', 'news', 'positive', 'great', 'good'],\n",
    "        ['this', 'is','negative','bad', 'terrible', 'shit'],\n",
    "        ['negative','bad', 'this', 'terrible', 'crap'],\n",
    "        ['negative', 'shit', 'crap'],\n",
    "        ['bad', 'negative', 'crap'],\n",
    "        ['terrible', 'negative', 'this', 'crap']\n",
    "    ]\n",
    "toy_Y = [1, 1, 1,1, 0, 0, 0, 0]\n",
    "toy_vocab, toy_word2int, toy_int2word = get_vocab(toy_X)\n",
    "toy_ppmi_classifier = PPMIClassifier(vocab_size=len(toy_vocab) + 1, word2int=toy_word2int, num_classes=2, int2word=toy_int2word, window_size=5)\n",
    "toy_ppmi_classifier.fit(toy_X)\n"
   ]
  },
  {
   "cell_type": "code",
   "execution_count": 3,
   "metadata": {},
   "outputs": [
    {
     "data": {
      "text/plain": [
       "0.0"
      ]
     },
     "execution_count": 3,
     "metadata": {},
     "output_type": "execute_result"
    }
   ],
   "source": [
    "toy_ppmi_classifier.get_word_similarity('negative', 'amazing')"
   ]
  },
  {
   "cell_type": "code",
   "execution_count": 4,
   "metadata": {},
   "outputs": [
    {
     "name": "stderr",
     "output_type": "stream",
     "text": [
      "Reusing dataset imdb (/home/ajrfhp/.cache/huggingface/datasets/imdb/plain_text/1.0.0/2fdd8b9bcadd6e7055e742a706876ba43f19faee861df134affd7a3f60fc38a1)\n",
      "Reusing dataset imdb (/home/ajrfhp/.cache/huggingface/datasets/imdb/plain_text/1.0.0/2fdd8b9bcadd6e7055e742a706876ba43f19faee861df134affd7a3f60fc38a1)\n"
     ]
    }
   ],
   "source": [
    "train_dataset = load_dataset('imdb', split='train')\n",
    "test_dataset = load_dataset('imdb', split='test')"
   ]
  },
  {
   "cell_type": "code",
   "execution_count": 5,
   "metadata": {},
   "outputs": [
    {
     "data": {
      "image/png": "[encoded data removed]",
      "text/plain": [
       "<Figure size 1080x360 with 1 Axes>"
      ]
     },
     "metadata": {
      "needs_background": "light"
     },
     "output_type": "display_data"
    },
    {
     "name": "stdout",
     "output_type": "stream",
     "text": [
      "counted 0 out of 25000\n",
      "counted 1000 out of 25000\n",
      "counted 2000 out of 25000\n",
      "counted 3000 out of 25000\n",
      "counted 4000 out of 25000\n",
      "counted 5000 out of 25000\n",
      "counted 6000 out of 25000\n",
      "counted 7000 out of 25000\n",
      "counted 8000 out of 25000\n",
      "counted 9000 out of 25000\n",
      "counted 10000 out of 25000\n",
      "counted 11000 out of 25000\n",
      "counted 12000 out of 25000\n",
      "counted 13000 out of 25000\n",
      "counted 14000 out of 25000\n",
      "counted 15000 out of 25000\n",
      "counted 16000 out of 25000\n",
      "counted 17000 out of 25000\n",
      "counted 18000 out of 25000\n",
      "counted 19000 out of 25000\n",
      "counted 20000 out of 25000\n",
      "counted 21000 out of 25000\n",
      "counted 22000 out of 25000\n",
      "counted 23000 out of 25000\n",
      "counted 24000 out of 25000\n",
      "processed 1000 out of 4680\n",
      "processed 2000 out of 4680\n",
      "processed 3000 out of 4680\n",
      "processed 4000 out of 4680\n"
     ]
    }
   ],
   "source": [
    "vocab, word2int, int2word = get_vocab(train_dataset['text'], split=True, vocab_size=5000, visualize=True)\n",
    "ppmi_classifier = PPMIClassifier(vocab_size=len(vocab) + 1, word2int=word2int, num_classes=2, int2word=int2word, window_size=3)\n",
    "ppmi_classifier.fit(train_dataset['text'],split=True, logging=True, logging_interval=1000)"
   ]
  },
  {
   "cell_type": "code",
   "execution_count": 6,
   "metadata": {},
   "outputs": [
    {
     "data": {
      "image/png": "[encoded data removed]",
      "text/plain": [
       "<Figure size 432x288 with 1 Axes>"
      ]
     },
     "metadata": {
      "needs_background": "light"
     },
     "output_type": "display_data"
    },
    {
     "data": {
      "text/plain": [
       "(0.6070821941715573, 0.4605827935016001)"
      ]
     },
     "execution_count": 6,
     "metadata": {},
     "output_type": "execute_result"
    }
   ],
   "source": [
    "ppmi_classifier.visualize_word('terrible', k = 10)\n",
    "ppmi_classifier.get_word_similarity('amazing', 'great'), ppmi_classifier.get_word_similarity('great', 'terrible')"
   ]
  },
  {
   "cell_type": "markdown",
   "metadata": {},
   "source": [
    "- Use PPMI to encode vectors in train and test datasets\n",
    "- Train logistic regression model on top of encoded vectors\n",
    "- Get predictions\n",
    "- Measure accuracy"
   ]
  },
  {
   "cell_type": "code",
   "execution_count": 7,
   "metadata": {},
   "outputs": [
    {
     "data": {
      "text/plain": [
       "(2, 4680)"
      ]
     },
     "execution_count": 7,
     "metadata": {},
     "output_type": "execute_result"
    }
   ],
   "source": [
    "def get_vectors(X, ppmi_classifier, split=True):\n",
    "    X_vec = []\n",
    "    X = X['text']\n",
    "    for x in X:\n",
    "        x_vec = np.zeros(ppmi_classifier.vocab_size)\n",
    "        if split:\n",
    "            x = x.split(' ')\n",
    "            for word in x:\n",
    "                if ppmi_classifier.word2int[word]:\n",
    "                    x_vec += ppmi_classifier.ppmi_matrix[word2int[word]]\n",
    "        X_vec.append(x_vec)\n",
    "    return {\"vectors\" : np.array(X_vec)}\n",
    "\n",
    "\n",
    "\n",
    "get_vectors({\"text\" : ['this is a amazing movie', 'terrible movie']}, ppmi_classifier)['vectors'].shape"
   ]
  },
  {
   "cell_type": "code",
   "execution_count": 8,
   "metadata": {},
   "outputs": [
    {
     "data": {
      "application/vnd.jupyter.widget-view+json": {
       "model_id": "b37a7b8df5bb4003a59b06ff7b6b35f3",
       "version_major": 2,
       "version_minor": 0
      },
      "text/plain": [
       "  0%|          | 0/25 [00:00<?, ?ba/s]"
      ]
     },
     "metadata": {},
     "output_type": "display_data"
    },
    {
     "data": {
      "application/vnd.jupyter.widget-view+json": {
       "model_id": "52fc1566000748baa47181e19adb6fe2",
       "version_major": 2,
       "version_minor": 0
      },
      "text/plain": [
       "  0%|          | 0/25 [00:00<?, ?ba/s]"
      ]
     },
     "metadata": {},
     "output_type": "display_data"
    }
   ],
   "source": [
    "train_vectors = train_dataset.map(get_vectors, batched=True, fn_kwargs={'ppmi_classifier' : ppmi_classifier}, remove_columns=['text'])\n",
    "test_vectors = test_dataset.map(get_vectors, batched=True, fn_kwargs={'ppmi_classifier' : ppmi_classifier}, remove_columns=['text'])\n",
    "train_vectors.set_format('torch')\n",
    "test_vectors.set_format('torch')\n",
    "\n",
    "train_dataloader = DataLoader(\n",
    "    train_vectors, shuffle=True, batch_size=1000,\n",
    ")\n",
    "test_dataloader = DataLoader(\n",
    "    test_vectors, batch_size=1000\n",
    ")"
   ]
  },
  {
   "cell_type": "code",
   "execution_count": 10,
   "metadata": {},
   "outputs": [
    {
     "data": {
      "text/plain": [
       "tensor(0.7445, grad_fn=<MaxBackward1>)"
      ]
     },
     "execution_count": 10,
     "metadata": {},
     "output_type": "execute_result"
    }
   ],
   "source": [
    "class LogisticRegression(nn.Module):\n",
    "    def __init__(self, dim=24) -> None:\n",
    "        super(LogisticRegression, self).__init__()\n",
    "        self.fc1 = nn.Linear(dim, 1)\n",
    "    \n",
    "    def forward(self, x):\n",
    "        return nn.Sigmoid()(self.fc1(x))\n",
    "\n",
    "model = LogisticRegression(dim=4680)\n",
    "model.forward(train_vectors['vectors'][900:1200]).squeeze(dim=-1).max()"
   ]
  },
  {
   "cell_type": "code",
   "execution_count": 11,
   "metadata": {},
   "outputs": [
    {
     "name": "stdout",
     "output_type": "stream",
     "text": [
      "0.22558333333333333\n",
      "0 0 tensor(0.7061, grad_fn=<BinaryCrossEntropyBackward0>)\n",
      "1 0 tensor(0.5698, grad_fn=<BinaryCrossEntropyBackward0>)\n",
      "2 0 tensor(0.5120, grad_fn=<BinaryCrossEntropyBackward0>)\n",
      "3 0 tensor(0.5006, grad_fn=<BinaryCrossEntropyBackward0>)\n",
      "4 0 tensor(0.4674, grad_fn=<BinaryCrossEntropyBackward0>)\n",
      "5 0 tensor(0.4675, grad_fn=<BinaryCrossEntropyBackward0>)\n",
      "6 0 tensor(0.4480, grad_fn=<BinaryCrossEntropyBackward0>)\n",
      "7 0 tensor(0.4284, grad_fn=<BinaryCrossEntropyBackward0>)\n",
      "8 0 tensor(0.4265, grad_fn=<BinaryCrossEntropyBackward0>)\n",
      "9 0 tensor(0.4137, grad_fn=<BinaryCrossEntropyBackward0>)\n",
      "0.8045833333333333\n"
     ]
    }
   ],
   "source": [
    "def train(model, train_dataloader, optmizer, logging_interval=100, epochs=10):\n",
    "    model.train()\n",
    "    for epoch in range(epochs):\n",
    "        for i, batch in enumerate(train_dataloader):\n",
    "            inputs, outputs = batch['vectors'], batch['label']\n",
    "            predictions = model.forward(inputs).squeeze(dim=-1)\n",
    "            loss = nn.functional.binary_cross_entropy(predictions, outputs.float())\n",
    "            optimizer.zero_grad()\n",
    "            loss.backward()\n",
    "            optimizer.step()\n",
    "            if i%logging_interval == 0:\n",
    "                print(epoch, i, loss)\n",
    "\n",
    "def eval(model, test_dataloder, logging_interval=100):\n",
    "    correct, total = 0, 0\n",
    "    model.eval()\n",
    "    for i, batch in enumerate(test_dataloder):\n",
    "        inputs, outputs = batch['vectors'], batch['label']\n",
    "        predictions = model.forward(inputs).squeeze(dim=-1)\n",
    "        predictions[predictions.le(0.5)] = 0\n",
    "        predictions[predictions.ge(0.5)] = 1\n",
    "        correct += len(predictions[predictions == outputs])\n",
    "        total += len(outputs)\n",
    "        if i > 10:\n",
    "            break\n",
    "    print(correct/total)\n",
    "\n",
    "model = LogisticRegression(dim=4680)\n",
    "optimizer = optim.Adam(model.parameters(), lr=1e-3)\n",
    "eval(model, test_dataloader)\n",
    "train(model, train_dataloader, optimizer)\n",
    "eval(model, test_dataloader)"
   ]
  },
  {
   "cell_type": "code",
   "execution_count": 21,
   "metadata": {},
   "outputs": [],
   "source": [
    "def predict(sentence, ppmi_classifier, model):\n",
    "    sentence = {\n",
    "        'text' : [sentence]\n",
    "    }\n",
    "    vector = get_vectors(sentence, ppmi_classifier)['vectors']\n",
    "    prediction = model.forward(torch.tensor(vector).float())\n",
    "    print(prediction.ge(0.5)[0][0])\n"
   ]
  },
  {
   "cell_type": "code",
   "execution_count": 24,
   "metadata": {},
   "outputs": [
    {
     "name": "stdout",
     "output_type": "stream",
     "text": [
      "tensor(False)\n"
     ]
    }
   ],
   "source": [
    "predict('terrible crap acting', ppmi_classifier, model)"
   ]
  },
  {
   "cell_type": "code",
   "execution_count": 25,
   "metadata": {},
   "outputs": [
    {
     "name": "stdout",
     "output_type": "stream",
     "text": [
      "tensor(True)\n"
     ]
    }
   ],
   "source": [
    "predict('love this movie', ppmi_classifier, model)"
   ]
  },
  {
   "cell_type": "code",
   "execution_count": 26,
   "metadata": {},
   "outputs": [
    {
     "name": "stdout",
     "output_type": "stream",
     "text": [
      "tensor(True)\n"
     ]
    }
   ],
   "source": [
    "predict('incredible movie', ppmi_classifier, model)"
   ]
  },
  {
   "cell_type": "code",
   "execution_count": 27,
   "metadata": {},
   "outputs": [
    {
     "name": "stdout",
     "output_type": "stream",
     "text": [
      "tensor(False)\n"
     ]
    }
   ],
   "source": [
    "predict('crappy shit', ppmi_classifier, model)"
   ]
  },
  {
   "cell_type": "code",
   "execution_count": null,
   "metadata": {},
   "outputs": [],
   "source": []
  }
 ],
 "metadata": {
  "kernelspec": {
   "display_name": "Python 3.8.13 ('reddevils_nlp')",
   "language": "python",
   "name": "python3"
  },
  "language_info": {
   "codemirror_mode": {
    "name": "ipython",
    "version": 3
   },
   "file_extension": ".py",
   "mimetype": "text/x-python",
   "name": "python",
   "nbconvert_exporter": "python",
   "pygments_lexer": "ipython3",
   "version": "3.8.13"
  },
  "orig_nbformat": 4,
  "vscode": {
   "interpreter": {
    "hash": "207f4bc9e0c83dc0c8ddefb60bf2781db591dfbb838789bb02122c3833b8e815"
   }
  }
 },
 "nbformat": 4,
 "nbformat_minor": 2
}
