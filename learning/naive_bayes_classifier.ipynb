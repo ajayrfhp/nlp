{
 "cells": [
  {
   "cell_type": "code",
   "execution_count": 117,
   "metadata": {},
   "outputs": [],
   "source": [
    "from collections import defaultdict, Counter\n",
    "import numpy as np\n",
    "from datasets import load_dataset\n",
    "from matplotlib import pyplot as plt\n",
    "import evaluate\n",
    "from utils import get_vocab\n",
    "\n"
   ]
  },
  {
   "cell_type": "code",
   "execution_count": 118,
   "metadata": {},
   "outputs": [
    {
     "data": {
      "image/png": "[encoded data removed]",
      "text/plain": [
       "<Figure size 1080x360 with 1 Axes>"
      ]
     },
     "metadata": {
      "needs_background": "light"
     },
     "output_type": "display_data"
    },
    {
     "data": {
      "text/plain": [
       "(['I', 'like', 'ice', 'cream'],\n",
       " defaultdict(<function utils.get_vocab.<locals>.<lambda>()>,\n",
       "             {'I': 1, 'like': 2, 'ice': 3, 'cream': 4}),\n",
       " defaultdict(<function utils.get_vocab.<locals>.<lambda>()>,\n",
       "             {1: 'I', 2: 'like', 3: 'ice', 4: 'cream'}))"
      ]
     },
     "execution_count": 118,
     "metadata": {},
     "output_type": "execute_result"
    }
   ],
   "source": [
    "get_vocab(['I like ice cream'], split=True)"
   ]
  },
  {
   "cell_type": "code",
   "execution_count": 81,
   "metadata": {},
   "outputs": [
    {
     "data": {
      "image/png": "[encoded data removed]",
      "text/plain": [
       "<Figure size 1080x360 with 1 Axes>"
      ]
     },
     "metadata": {
      "needs_background": "light"
     },
     "output_type": "display_data"
    },
    {
     "name": "stdout",
     "output_type": "stream",
     "text": [
      "estimated likelilihood and probability of each class sums to 1\n"
     ]
    },
    {
     "name": "stderr",
     "output_type": "stream",
     "text": [
      "/tmp/ipykernel_2723/3821935996.py:37: RuntimeWarning: divide by zero encountered in log\n",
      "  self.likelihood[c] = np.log(self.likelihood[c])\n"
     ]
    },
    {
     "data": {
      "text/plain": [
       "[0]"
      ]
     },
     "execution_count": 81,
     "metadata": {},
     "output_type": "execute_result"
    }
   ],
   "source": [
    "\n",
    "class NaiveBayes:\n",
    "    def __init__(self, vocab_size, word2int, num_classes, int2word):\n",
    "        \"\"\"NaiveBayes model classifier with bag of words to featurize.\n",
    "\n",
    "        Args:\n",
    "            class_labels List[str]: list of class labels\n",
    "            vocab_size int: number of words \n",
    "        \"\"\"\n",
    "        self.num_classes = num_classes\n",
    "        self.prior = np.zeros(num_classes)\n",
    "        self.likelihood = defaultdict(lambda : np.ones(vocab_size))\n",
    "        self.word2int = word2int\n",
    "        self.int2word = int2word\n",
    "\n",
    "        pass \n",
    "\n",
    "\n",
    "    def fit(self, X, Y, split=False, logging=False, logging_interval=1000):\n",
    "        i = 0\n",
    "        for x, y in zip(X, Y):\n",
    "            i += 1\n",
    "            if i % logging_interval == 0 and logging:\n",
    "                print(i)\n",
    "            self.prior[y] += 1 / len(Y)\n",
    "            if split:\n",
    "                x = x.split(' ')\n",
    "            for word in x:\n",
    "                self.likelihood[y][self.word2int[word]] += 1\n",
    "\n",
    "        \n",
    "\n",
    "        for c, probs in self.likelihood.items():\n",
    "            probs[0] = 0\n",
    "            self.likelihood[c] = probs / np.sum(probs)\n",
    "        \n",
    "            assert(np.allclose(np.sum(self.likelihood[c]), 1, 1e-2))\n",
    "            self.likelihood[c] = np.log(self.likelihood[c])\n",
    "        print('estimated likelilihood and probability of each class sums to 1')\n",
    "\n",
    "        \n",
    "    def predict(self, X, split=False, scores=False):\n",
    "        predictions = []\n",
    "        for x in X:\n",
    "            if split:\n",
    "                x = x.split(' ')\n",
    "            probs = np.zeros(self.num_classes)\n",
    "            for c in range(self.num_classes):\n",
    "                probs[c] += self.prior[c]\n",
    "                for word in x:\n",
    "                    if self.word2int[word] > 0:\n",
    "                        probs[c] += self.likelihood[c][self.word2int[word]]\n",
    "            if not scores:\n",
    "                probs = probs.argmax()\n",
    "            predictions.append(probs)\n",
    "        return predictions\n",
    "\n",
    "    def visualize_likelihood(self):\n",
    "        # Get top 5 words associated with each class. \n",
    "        for c in range(self.num_classes):\n",
    "            prob = self.likelihood[c]\n",
    "            top_prob_indices = np.argsort(prob)[::-1][0:25]\n",
    "            top_words = [self.int2word[index] for index in top_prob_indices ]\n",
    "            plt.title(f'distribution of top words associated with class {c}')\n",
    "            plt.bar(top_words, prob[top_prob_indices])\n",
    "            plt.xticks(rotation=90)\n",
    "            plt.show()\n",
    "            \n",
    "\n",
    "toy_X = [\n",
    "        ['this', 'is', 'positive', 'amazing'],\n",
    "        ['positive', 'amazing'],\n",
    "        ['positive'],\n",
    "        ['amazing'],\n",
    "        ['this', 'is','negative','bad'],\n",
    "        ['negative','bad', 'this'],\n",
    "        ['negative'],\n",
    "        ['bad']\n",
    "    ]\n",
    "toy_Y = [1, 1, 1,1, 0, 0, 0, 0]\n",
    "toy_vocab, toy_word2int, toy_int2word = get_vocab(toy_X)\n",
    "toy_naive_bayes = NaiveBayes(vocab_size=len(toy_vocab) + 1, word2int=toy_word2int, num_classes=2, int2word=toy_int2word)\n",
    "toy_naive_bayes.fit(toy_X, toy_Y)\n",
    "toy_naive_bayes.predict([['negative']])\n",
    "#toy_naive_bayes.visualize_likelihood()"
   ]
  },
  {
   "cell_type": "code",
   "execution_count": 36,
   "metadata": {},
   "outputs": [
    {
     "name": "stderr",
     "output_type": "stream",
     "text": [
      "Reusing dataset imdb (/home/ajrfhp/.cache/huggingface/datasets/imdb/plain_text/1.0.0/2fdd8b9bcadd6e7055e742a706876ba43f19faee861df134affd7a3f60fc38a1)\n",
      "Reusing dataset imdb (/home/ajrfhp/.cache/huggingface/datasets/imdb/plain_text/1.0.0/2fdd8b9bcadd6e7055e742a706876ba43f19faee861df134affd7a3f60fc38a1)\n"
     ]
    },
    {
     "data": {
      "text/plain": [
       "1"
      ]
     },
     "execution_count": 36,
     "metadata": {},
     "output_type": "execute_result"
    }
   ],
   "source": [
    "train_dataset = load_dataset('imdb', split='train')\n",
    "test_dataset = load_dataset('imdb', split='test')\n",
    "\n",
    "train_dataset['label'][15000]"
   ]
  },
  {
   "cell_type": "code",
   "execution_count": 114,
   "metadata": {},
   "outputs": [
    {
     "data": {
      "image/png": "[encoded data removed]",
      "text/plain": [
       "<Figure size 1080x360 with 1 Axes>"
      ]
     },
     "metadata": {
      "needs_background": "light"
     },
     "output_type": "display_data"
    },
    {
     "name": "stdout",
     "output_type": "stream",
     "text": [
      "estimated likelilihood and probability of each class sums to 1\n"
     ]
    },
    {
     "name": "stderr",
     "output_type": "stream",
     "text": [
      "/tmp/ipykernel_2723/3821935996.py:37: RuntimeWarning: divide by zero encountered in log\n",
      "  self.likelihood[c] = np.log(self.likelihood[c])\n"
     ]
    },
    {
     "data": {
      "image/png": "[encoded data removed]",
      "text/plain": [
       "<Figure size 432x288 with 1 Axes>"
      ]
     },
     "metadata": {
      "needs_background": "light"
     },
     "output_type": "display_data"
    },
    {
     "data": {
      "image/png": "[encoded data removed]",
      "text/plain": [
       "<Figure size 432x288 with 1 Axes>"
      ]
     },
     "metadata": {
      "needs_background": "light"
     },
     "output_type": "display_data"
    }
   ],
   "source": [
    "vocab, word2int, int2word = get_vocab(train_dataset['text'], split=True, vocab_size=100000, visualize=True, num_stop_words=50)\n",
    "naive_bayes = NaiveBayes(vocab_size=len(vocab) + 1, word2int=word2int, num_classes=2, int2word=int2word)\n",
    "naive_bayes.fit(train_dataset['text'], train_dataset['label'], split=True)\n",
    "\n",
    "\n",
    "naive_bayes.visualize_likelihood()"
   ]
  },
  {
   "cell_type": "markdown",
   "metadata": {},
   "source": [
    "- Not bad for a simple model. \n",
    "    - Top words associated with each class after UNK \n",
    "    - negative - terrible, boring, awful, worse \n",
    "    - Positive - amazing, fine, well, highly"
   ]
  },
  {
   "cell_type": "code",
   "execution_count": 115,
   "metadata": {},
   "outputs": [
    {
     "name": "stdout",
     "output_type": "stream",
     "text": [
      "this is an amazing movie [1]\n",
      "crappy movie [0]\n",
      "crap [0]\n",
      "shit [0]\n",
      "glorious [1]\n",
      "majestic [1]\n",
      "love this [1]\n",
      "entertaining [1]\n",
      "awful [0]\n",
      "terrible writing [0]\n",
      "clumsy writing [0]\n"
     ]
    }
   ],
   "source": [
    "for example in ['this is an amazing movie', 'crappy movie', 'crap', 'shit', 'glorious', 'majestic', 'love this', 'entertaining', 'awful', 'terrible writing', 'clumsy writing']:\n",
    "    print(example, naive_bayes.predict([example], split=True, scores=False))"
   ]
  },
  {
   "cell_type": "code",
   "execution_count": 116,
   "metadata": {},
   "outputs": [
    {
     "data": {
      "text/plain": [
       "{'accuracy': 0.83924}"
      ]
     },
     "execution_count": 116,
     "metadata": {},
     "output_type": "execute_result"
    }
   ],
   "source": [
    "predictions = naive_bayes.predict(test_dataset['text'], split=True)\n",
    "accuracy_metric = evaluate.load(\"accuracy\")\n",
    "accuracy_metric.compute(references=predictions, predictions=test_dataset['label'])"
   ]
  },
  {
   "cell_type": "code",
   "execution_count": null,
   "metadata": {},
   "outputs": [],
   "source": []
  }
 ],
 "metadata": {
  "kernelspec": {
   "display_name": "Python 3.8.13 ('reddevils_nlp')",
   "language": "python",
   "name": "python3"
  },
  "language_info": {
   "codemirror_mode": {
    "name": "ipython",
    "version": 3
   },
   "file_extension": ".py",
   "mimetype": "text/x-python",
   "name": "python",
   "nbconvert_exporter": "python",
   "pygments_lexer": "ipython3",
   "version": "3.8.13"
  },
  "orig_nbformat": 4,
  "vscode": {
   "interpreter": {
    "hash": "207f4bc9e0c83dc0c8ddefb60bf2781db591dfbb838789bb02122c3833b8e815"
   }
  }
 },
 "nbformat": 4,
 "nbformat_minor": 2
}
