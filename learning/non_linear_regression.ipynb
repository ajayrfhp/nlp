{
 "cells": [
  {
   "cell_type": "code",
   "execution_count": 1,
   "metadata": {},
   "outputs": [],
   "source": [
    "import numpy as np\n",
    "import torch, torch.optim as optim\n",
    "import torch.nn as nn\n",
    "from matplotlib import pyplot as plt\n",
    "from torch.utils.data import TensorDataset, DataLoader"
   ]
  },
  {
   "cell_type": "code",
   "execution_count": 13,
   "metadata": {},
   "outputs": [
    {
     "name": "stdout",
     "output_type": "stream",
     "text": [
      "(20000,)\n"
     ]
    },
    {
     "data": {
      "image/png": "[encoded data removed]",
      "text/plain": [
       "<Figure size 432x288 with 1 Axes>"
      ]
     },
     "metadata": {
      "needs_background": "light"
     },
     "output_type": "display_data"
    }
   ],
   "source": [
    "X = np.arange(-1000, 1000, 0.1) / 100\n",
    "Y = np.cos(X)\n",
    "\n",
    "print(X.shape)\n",
    "\n",
    "plt.plot(X, Y, 'o')\n",
    "plt.show()\n"
   ]
  },
  {
   "cell_type": "code",
   "execution_count": 14,
   "metadata": {},
   "outputs": [],
   "source": [
    "def get_train_test_dataset(X, Y):\n",
    "    indices = np.random.permutation(len(X))\n",
    "    X, Y = X[indices], Y[indices]\n",
    "    \n",
    "    X = torch.from_numpy(X).reshape((-1, 1)).double()\n",
    "    Y = torch.from_numpy(Y).reshape((-1, 1)).double()\n",
    "    \n",
    "    train_length = int(0.8 * len(X))\n",
    "    X_train, Y_train = X[:train_length], Y[:train_length]\n",
    "    X_test, Y_test = X[train_length:], Y[train_length:]\n",
    "\n",
    "    train_loader = DataLoader(TensorDataset(X_train, Y_train), batch_size=100)\n",
    "    test_loader = DataLoader(TensorDataset(X_test, Y_test), batch_size=100)\n",
    "\n",
    "    return train_loader, test_loader\n",
    "\n",
    "train_loader, test_loader = get_train_test_dataset(X, Y)\n"
   ]
  },
  {
   "cell_type": "code",
   "execution_count": 22,
   "metadata": {},
   "outputs": [
    {
     "name": "stdout",
     "output_type": "stream",
     "text": [
      "fc1.weight Parameter containing:\n",
      "tensor([[-0.5272],\n",
      "        [-0.9208],\n",
      "        [-0.3786],\n",
      "        [ 0.7548],\n",
      "        [-0.2278],\n",
      "        [-0.0722],\n",
      "        [ 0.4980],\n",
      "        [ 0.7212],\n",
      "        [ 0.0820],\n",
      "        [ 0.4960],\n",
      "        [ 0.8938],\n",
      "        [ 0.4673],\n",
      "        [ 0.5650],\n",
      "        [-0.4574],\n",
      "        [ 0.5580],\n",
      "        [ 0.0110],\n",
      "        [-0.0511],\n",
      "        [-0.2910],\n",
      "        [-0.5034],\n",
      "        [ 0.8053],\n",
      "        [ 0.8503],\n",
      "        [ 0.9928],\n",
      "        [ 0.6847],\n",
      "        [ 0.9054],\n",
      "        [-0.5631],\n",
      "        [-0.0890],\n",
      "        [ 0.1920],\n",
      "        [-0.0975],\n",
      "        [-0.0861],\n",
      "        [ 0.6143],\n",
      "        [ 0.5539],\n",
      "        [ 0.7472],\n",
      "        [ 0.1487],\n",
      "        [ 0.7063],\n",
      "        [-0.9112],\n",
      "        [ 0.4893],\n",
      "        [ 0.1290],\n",
      "        [-0.9896],\n",
      "        [-0.7277],\n",
      "        [-0.1257],\n",
      "        [ 0.1167],\n",
      "        [-0.3799],\n",
      "        [ 0.8364],\n",
      "        [-0.8836],\n",
      "        [-0.6320],\n",
      "        [-0.7985],\n",
      "        [ 0.2342],\n",
      "        [-0.3160],\n",
      "        [ 0.8201],\n",
      "        [-0.3165],\n",
      "        [-0.3081],\n",
      "        [-0.2633],\n",
      "        [-0.2566],\n",
      "        [-0.9344],\n",
      "        [-0.3798],\n",
      "        [ 0.2192],\n",
      "        [-0.6422],\n",
      "        [ 0.6801],\n",
      "        [-0.3026],\n",
      "        [ 0.4227],\n",
      "        [-0.1399],\n",
      "        [ 0.7491],\n",
      "        [-0.8239],\n",
      "        [-0.2336],\n",
      "        [ 0.0769],\n",
      "        [ 0.1460],\n",
      "        [-0.5498],\n",
      "        [ 0.2435],\n",
      "        [-0.9010],\n",
      "        [ 0.5205],\n",
      "        [-0.5133],\n",
      "        [ 0.0045],\n",
      "        [ 0.7723],\n",
      "        [-0.4195],\n",
      "        [-0.5570],\n",
      "        [-0.4551],\n",
      "        [ 0.3064],\n",
      "        [-0.6868],\n",
      "        [ 0.9376],\n",
      "        [-0.0920],\n",
      "        [ 0.7824],\n",
      "        [-0.9310],\n",
      "        [ 0.3890],\n",
      "        [ 0.4754],\n",
      "        [-0.9316],\n",
      "        [ 0.3536],\n",
      "        [ 0.1447],\n",
      "        [-0.8056],\n",
      "        [ 0.1284],\n",
      "        [ 0.0580],\n",
      "        [ 0.3642],\n",
      "        [-0.6701],\n",
      "        [ 0.2382],\n",
      "        [ 0.3649],\n",
      "        [ 0.8639],\n",
      "        [ 0.1504],\n",
      "        [-0.9056],\n",
      "        [-0.6352],\n",
      "        [-0.7676],\n",
      "        [ 0.2181]], dtype=torch.float64, requires_grad=True)\n",
      "fc1.bias Parameter containing:\n",
      "tensor([ 0.4511,  0.7306,  0.4613, -0.0341,  0.7023, -0.3026,  0.9787,  0.3872,\n",
      "        -0.4203, -0.0845,  0.5476, -0.5700, -0.6406, -0.3641, -0.0341, -0.8736,\n",
      "        -0.0278,  0.8508, -0.6668,  0.2819,  0.4234,  0.3444,  0.6237, -0.8020,\n",
      "        -0.0846,  0.0368, -0.4202, -0.6363,  0.2522, -0.9410, -0.0200, -0.3339,\n",
      "        -0.9541,  0.7601, -0.4113, -0.5741, -0.0789,  0.1779,  0.6029,  0.1006,\n",
      "        -0.7798, -0.1976, -0.6702, -0.1153, -0.7150, -0.2893,  0.5794, -0.9418,\n",
      "        -0.5873,  0.1902,  0.5779,  0.1984, -0.2861, -0.0733, -0.0040, -0.1278,\n",
      "        -0.1767, -0.7677, -0.2104,  0.8786,  0.7843,  0.2227,  0.1915, -0.3898,\n",
      "         0.4977, -0.1421,  0.4743,  0.9523,  0.4357, -0.5961, -0.4252, -0.5734,\n",
      "        -0.4322,  0.3635,  0.3189,  0.1840, -0.2647,  0.8789,  0.5417,  0.1590,\n",
      "        -0.8033,  0.2061, -0.6102, -0.3835, -0.2837,  0.4537,  0.4403,  0.3769,\n",
      "        -0.5862,  0.6250, -0.2267,  0.8290, -0.2745,  0.1277, -0.9239, -0.2210,\n",
      "         0.2215,  0.9098,  0.9785, -0.3059], dtype=torch.float64,\n",
      "       requires_grad=True)\n",
      "fc2.weight Parameter containing:\n",
      "tensor([[-0.0842,  0.0224, -0.0999,  ..., -0.0569,  0.0868,  0.0552],\n",
      "        [ 0.0564,  0.0365,  0.0778,  ..., -0.0194,  0.0756, -0.0616],\n",
      "        [ 0.0329, -0.0760,  0.0495,  ...,  0.0146, -0.0361, -0.0603],\n",
      "        ...,\n",
      "        [-0.0814,  0.0412,  0.0861,  ..., -0.0629, -0.0296, -0.0569],\n",
      "        [-0.0976, -0.0997,  0.0128,  ..., -0.0050, -0.0026,  0.0905],\n",
      "        [-0.0281,  0.0830,  0.0074,  ...,  0.0443, -0.0994, -0.0209]],\n",
      "       dtype=torch.float64, requires_grad=True)\n",
      "fc2.bias Parameter containing:\n",
      "tensor([-0.0160, -0.0068,  0.0638,  0.0922,  0.0058, -0.0218, -0.0585, -0.0419,\n",
      "        -0.0832, -0.0332,  0.0114, -0.0442, -0.0257,  0.0530, -0.0697, -0.0192,\n",
      "         0.0993,  0.0960, -0.0080,  0.0320,  0.0084,  0.0916, -0.0803,  0.0863,\n",
      "        -0.0884, -0.0117, -0.0367,  0.0700,  0.0155, -0.0638,  0.0821,  0.0682,\n",
      "         0.0102,  0.0047,  0.0811,  0.0081,  0.0123,  0.0749, -0.0909,  0.0716,\n",
      "        -0.0459, -0.0069, -0.0596, -0.0196, -0.0859,  0.0603, -0.0937,  0.0699,\n",
      "         0.0834, -0.0506,  0.0822, -0.0861,  0.0397, -0.0641,  0.0110, -0.0154,\n",
      "         0.0974,  0.0452, -0.0972,  0.0064,  0.0665, -0.0773,  0.0427, -0.0804,\n",
      "        -0.0178, -0.0785, -0.0645,  0.0654,  0.0493, -0.0342,  0.0841, -0.0198,\n",
      "         0.0272,  0.0160,  0.0940,  0.0895,  0.0136, -0.0666, -0.0715, -0.0024,\n",
      "        -0.0324, -0.0047,  0.0801,  0.0157, -0.0868, -0.0340, -0.0125, -0.0345,\n",
      "        -0.0520, -0.0408, -0.0537, -0.0300,  0.0579, -0.0384, -0.0212, -0.0482,\n",
      "         0.0155, -0.0626, -0.0941,  0.0978], dtype=torch.float64,\n",
      "       requires_grad=True)\n",
      "fc3.weight Parameter containing:\n",
      "tensor([[-0.0110,  0.0625, -0.0868,  0.0065, -0.0908,  0.0892,  0.0813, -0.0389,\n",
      "         -0.0532,  0.0879,  0.0877,  0.0179,  0.0071,  0.0802, -0.0999, -0.0453,\n",
      "          0.0551, -0.0694, -0.0378,  0.0883,  0.0304, -0.0428,  0.0745,  0.0285,\n",
      "          0.0549,  0.0625, -0.0475,  0.0294, -0.0479,  0.0639, -0.0123,  0.0559,\n",
      "          0.0759, -0.0664,  0.0138,  0.0692, -0.0812,  0.0482, -0.0860, -0.0900,\n",
      "          0.0698,  0.0333,  0.0199,  0.0622, -0.0702,  0.0953,  0.0832, -0.0577,\n",
      "          0.0825, -0.0995,  0.0654,  0.0196,  0.0766,  0.0939, -0.0716, -0.0543,\n",
      "          0.0610,  0.0226,  0.0070, -0.0942, -0.0133,  0.0018,  0.0099, -0.0490,\n",
      "          0.0723,  0.0362,  0.0948, -0.0867,  0.0961,  0.0189,  0.0676, -0.0484,\n",
      "          0.0617, -0.0969,  0.0417,  0.0071, -0.0563, -0.0891,  0.0970,  0.0205,\n",
      "          0.0583, -0.0238, -0.0088,  0.0567,  0.0735,  0.0400, -0.0063, -0.0222,\n",
      "         -0.0621, -0.0085,  0.0458,  0.0631, -0.0968, -0.0417, -0.0028, -0.0194,\n",
      "          0.0377, -0.0110, -0.0239, -0.0121]], dtype=torch.float64,\n",
      "       requires_grad=True)\n",
      "fc3.bias Parameter containing:\n",
      "tensor([0.0206], dtype=torch.float64, requires_grad=True)\n"
     ]
    }
   ],
   "source": [
    "class LinearModel(nn.Module):\n",
    "    def __init__(self) -> None:\n",
    "        super(LinearModel, self).__init__()\n",
    "        self.fc1 = nn.Linear(1, 100)\n",
    "        self.fc2 = nn.Linear(100, 100)\n",
    "        self.fc3 = nn.Linear(100, 1)\n",
    "\n",
    "    def forward(self, x):\n",
    "        x =  nn.ReLU()(self.fc1(x))\n",
    "        x = nn.ReLU()(self.fc2(x))\n",
    "        return self.fc3(x)\n",
    "\n",
    "\n",
    "model = LinearModel().double()\n",
    "model.forward(torch.tensor([4]).double())\n",
    "\n",
    "for name, param in model.named_parameters():\n",
    "    print(name, param)"
   ]
  },
  {
   "cell_type": "code",
   "execution_count": 23,
   "metadata": {},
   "outputs": [
    {
     "data": {
      "image/png": "[encoded data removed]",
      "text/plain": [
       "<Figure size 432x288 with 1 Axes>"
      ]
     },
     "metadata": {
      "needs_background": "light"
     },
     "output_type": "display_data"
    },
    {
     "name": "stdout",
     "output_type": "stream",
     "text": [
      "0.7685970689562265\n"
     ]
    },
    {
     "data": {
      "image/png": "[encoded data removed]",
      "text/plain": [
       "<Figure size 432x288 with 1 Axes>"
      ]
     },
     "metadata": {
      "needs_background": "light"
     },
     "output_type": "display_data"
    },
    {
     "data": {
      "image/png": "[encoded data removed]",
      "text/plain": [
       "<Figure size 432x288 with 1 Axes>"
      ]
     },
     "metadata": {
      "needs_background": "light"
     },
     "output_type": "display_data"
    },
    {
     "name": "stdout",
     "output_type": "stream",
     "text": [
      "0.00029682363330417146\n"
     ]
    }
   ],
   "source": [
    "def train(model, train_loader, optimizer, num_epochs=100):\n",
    "    running_losses = []\n",
    "    for epoch in range(num_epochs):\n",
    "        running_loss = 0\n",
    "        for i, (X_train, Y_train) in enumerate(train_loader):\n",
    "            predictions = model.forward(X_train)\n",
    "            loss = nn.MSELoss()(predictions, Y_train)\n",
    "            optimizer.zero_grad()\n",
    "            loss.backward()\n",
    "            optimizer.step()\n",
    "            running_loss += loss.item()\n",
    "            if i % 50 == 0 and i > 0:\n",
    "                running_losses.append(running_loss)\n",
    "                running_loss = 0\n",
    "\n",
    "    plt.plot(np.arange(len(running_losses)), running_losses)\n",
    "    plt.show()\n",
    "\n",
    "def eval(model, test_loader, visualize=False):\n",
    "    sum_loss, count_loss = 0, 0\n",
    "    X_tests, Y_tests, predictionss = [], [], []\n",
    "    for i, (X_test, Y_test) in enumerate(test_loader):\n",
    "        predictions = model.forward(X_test)\n",
    "        loss = nn.MSELoss()(predictions, Y_test)\n",
    "        sum_loss += loss.item()\n",
    "        count_loss += 1\n",
    "        X_tests.extend(X_test)\n",
    "        Y_tests.extend(Y_test)\n",
    "        predictionss.extend(predictions.detach().numpy())\n",
    "    \n",
    "    if visualize:\n",
    "        plt.plot(X_tests, predictionss, 'o')\n",
    "        plt.plot(X_tests, Y_tests, 'o')\n",
    "        plt.show()\n",
    "\n",
    "\n",
    "    print(sum_loss / count_loss)\n",
    "\n",
    "model = LinearModel().double()\n",
    "optimizer = torch.optim.Adam(model.parameters(), lr=1e-3)\n",
    "eval(model, test_loader, visualize=True)\n",
    "train(model, train_loader, optimizer)\n",
    "eval(model, test_loader, visualize=True)"
   ]
  },
  {
   "cell_type": "code",
   "execution_count": null,
   "metadata": {},
   "outputs": [],
   "source": []
  }
 ],
 "metadata": {
  "kernelspec": {
   "display_name": "Python 3.8.13 ('reddevils_nlp')",
   "language": "python",
   "name": "python3"
  },
  "language_info": {
   "codemirror_mode": {
    "name": "ipython",
    "version": 3
   },
   "file_extension": ".py",
   "mimetype": "text/x-python",
   "name": "python",
   "nbconvert_exporter": "python",
   "pygments_lexer": "ipython3",
   "version": "3.8.13"
  },
  "orig_nbformat": 4,
  "vscode": {
   "interpreter": {
    "hash": "207f4bc9e0c83dc0c8ddefb60bf2781db591dfbb838789bb02122c3833b8e815"
   }
  }
 },
 "nbformat": 4,
 "nbformat_minor": 2
}
