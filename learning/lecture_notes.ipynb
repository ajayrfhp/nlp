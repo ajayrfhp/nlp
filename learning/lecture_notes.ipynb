{
 "cells": [
  {
   "cell_type": "code",
   "execution_count": 2,
   "metadata": {},
   "outputs": [
    {
     "name": "stderr",
     "output_type": "stream",
     "text": [
      "[nltk_data] Downloading package wordnet to /home/ajrfhp/nltk_data...\n",
      "[nltk_data]   Package wordnet is already up-to-date!\n",
      "[nltk_data] Downloading package omw-1.4 to /home/ajrfhp/nltk_data...\n",
      "[nltk_data]   Package omw-1.4 is already up-to-date!\n"
     ]
    },
    {
     "data": {
      "text/plain": [
       "True"
      ]
     },
     "execution_count": 2,
     "metadata": {},
     "output_type": "execute_result"
    }
   ],
   "source": [
    "import nltk\n",
    "from nltk.corpus import wordnet as wn\n",
    "from collections import defaultdict\n",
    "import numpy as np\n",
    "from matplotlib import pyplot as plt\n",
    "nltk.download('wordnet')\n",
    "nltk.download('omw-1.4')"
   ]
  },
  {
   "cell_type": "code",
   "execution_count": 17,
   "metadata": {},
   "outputs": [
    {
     "data": {
      "text/plain": [
       "defaultdict(list,\n",
       "            {'noun': ['magic',\n",
       "              'thaumaturgy',\n",
       "              'magic_trick',\n",
       "              'conjuring_trick',\n",
       "              'trick',\n",
       "              'magic',\n",
       "              'legerdemain',\n",
       "              'conjuration',\n",
       "              'thaumaturgy',\n",
       "              'illusion',\n",
       "              'deception'],\n",
       "             'adj(s)': ['charming',\n",
       "              'magic',\n",
       "              'magical',\n",
       "              'sorcerous',\n",
       "              'witching',\n",
       "              'wizard',\n",
       "              'wizardly']})"
      ]
     },
     "execution_count": 17,
     "metadata": {},
     "output_type": "execute_result"
    }
   ],
   "source": [
    "def get_syonyms(word, pos_map = { \"n\" : \"noun\", \"a\" : \"adj\", \"s\" : \"adj(s)\", \"v\" : \"verb\", \"r\" : \"adverb\"}):\n",
    "    syonynms = defaultdict(list)\n",
    "    for synset in wn.synsets(word):\n",
    "        pos = pos_map[synset.pos()]\n",
    "        syonynms_under_pos = [ l.name() for l in synset.lemmas()]\n",
    "        syonynms[pos].extend(syonynms_under_pos)\n",
    "    return syonynms\n",
    "\n",
    "get_syonyms(\"magic\")"
   ]
  },
  {
   "cell_type": "code",
   "execution_count": 16,
   "metadata": {},
   "outputs": [
    {
     "name": "stderr",
     "output_type": "stream",
     "text": [
      "/tmp/ipykernel_431/2238075509.py:2: RuntimeWarning: divide by zero encountered in log\n",
      "  t1 = y*np.log(p)\n"
     ]
    },
    {
     "data": {
      "text/plain": [
       "100.0"
      ]
     },
     "execution_count": 16,
     "metadata": {},
     "output_type": "execute_result"
    }
   ],
   "source": [
    "def binary_cross_entropy_loss(y, p, clamp=-100):\n",
    "    t1 = y*np.log(p)\n",
    "    t2 = (1-y)*np.log(1-p)\n",
    "    t1 = max(t1, clamp)\n",
    "    t2 = max(t2, clamp)\n",
    "    return -(t1 + t2)\n",
    "    \n",
    "binary_cross_entropy_loss(1, 0)"
   ]
  },
  {
   "cell_type": "code",
   "execution_count": 15,
   "metadata": {},
   "outputs": [
    {
     "name": "stderr",
     "output_type": "stream",
     "text": [
      "/tmp/ipykernel_431/2653508177.py:1: RuntimeWarning: divide by zero encountered in log\n",
      "  np.log(0) < 100\n"
     ]
    },
    {
     "data": {
      "text/plain": [
       "True"
      ]
     },
     "execution_count": 15,
     "metadata": {},
     "output_type": "execute_result"
    }
   ],
   "source": [
    "np.log(0) < 100"
   ]
  },
  {
   "cell_type": "code",
   "execution_count": null,
   "metadata": {},
   "outputs": [],
   "source": []
  }
 ],
 "metadata": {
  "kernelspec": {
   "display_name": "Python 3.8.13 ('reddevils_nlp')",
   "language": "python",
   "name": "python3"
  },
  "language_info": {
   "codemirror_mode": {
    "name": "ipython",
    "version": 3
   },
   "file_extension": ".py",
   "mimetype": "text/x-python",
   "name": "python",
   "nbconvert_exporter": "python",
   "pygments_lexer": "ipython3",
   "version": "3.8.13"
  },
  "orig_nbformat": 4,
  "vscode": {
   "interpreter": {
    "hash": "207f4bc9e0c83dc0c8ddefb60bf2781db591dfbb838789bb02122c3833b8e815"
   }
  }
 },
 "nbformat": 4,
 "nbformat_minor": 2
}
